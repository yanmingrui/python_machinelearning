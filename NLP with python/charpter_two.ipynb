{
 "cells": [
  {
   "cell_type": "markdown",
   "metadata": {},
   "source": [
    "## 快速幂取模"
   ]
  },
  {
   "cell_type": "markdown",
   "metadata": {},
   "source": [
    "## 二进制 \n",
    "$[a]_n * [b]_n \\equiv [ab]_n$\n",
    "\n",
    "$\\rightarrow$\n",
    "\n",
    "$[a^b]_n \\equiv {[a]_n}^b$\n",
    "\n",
    "$b=2^{i_1,i_2....}+2^{k_1,k_2...}+...$\n",
    "\n",
    "$a^b = a^{2^{i_1,i_2....}}*a^{2^{k_1,k_2...}}*...$\n",
    "$\\bar{a}$"
   ]
  },
  {
   "cell_type": "code",
   "execution_count": 1,
   "metadata": {},
   "outputs": [],
   "source": [
    "import random"
   ]
  },
  {
   "cell_type": "markdown",
   "metadata": {},
   "source": [
    "## 迭代 "
   ]
  },
  {
   "cell_type": "code",
   "execution_count": 6,
   "metadata": {},
   "outputs": [],
   "source": [
    "def quick_mod(base, exp, mod):\n",
    "    ans = 1\n",
    "    base = base % mod\n",
    "    base_pro = base\n",
    "    while(exp):\n",
    "        if exp % 2:\n",
    "            ans =(ans * base_pro) % mod\n",
    "        base = (base_pro * base_pro) % mod\n",
    "        base_pro = base\n",
    "        exp //= 2\n",
    "    return ans"
   ]
  },
  {
   "cell_type": "code",
   "execution_count": 48,
   "metadata": {},
   "outputs": [
    {
     "name": "stdout",
     "output_type": "stream",
     "text": [
      "7-->2\n",
      "49-->4\n",
      "157-->8\n",
      "526-->17\n",
      "160-->35\n",
      "241-->70\n",
      "298-->140\n",
      "166-->280\n",
      "67-->560\n"
     ]
    },
    {
     "data": {
      "text/plain": [
       "1"
      ]
     },
     "execution_count": 48,
     "metadata": {},
     "output_type": "execute_result"
    }
   ],
   "source": [
    "def quick_mod_recur(base, exp, mod, count=560):\n",
    "    if exp==1:\n",
    "        return base % mod\n",
    "    res = quick_mod_recur(base, exp//2, mod, count=count//2)\n",
    "    print(res,end='')\n",
    "    res = (res * res) % mod\n",
    "    if exp % 2:\n",
    "        res = (res * base) % mod\n",
    "    print('-->'+str(count))\n",
    "    return res\n",
    "quick_mod_recur(7, 560, 561)"
   ]
  },
  {
   "cell_type": "code",
   "execution_count": 49,
   "metadata": {},
   "outputs": [
    {
     "name": "stdout",
     "output_type": "stream",
     "text": [
      "7-->2\n",
      "49-->4\n",
      "157-->8\n",
      "526-->17\n",
      "160-->35\n",
      "241-->70\n",
      "298-->140\n",
      "166-->280\n",
      "67-->560\n"
     ]
    },
    {
     "data": {
      "text/plain": [
       "1"
      ]
     },
     "execution_count": 49,
     "metadata": {},
     "output_type": "execute_result"
    }
   ],
   "source": [
    "quick_mod_recur(7, 560, 561)"
   ]
  },
  {
   "cell_type": "code",
   "execution_count": 7,
   "metadata": {},
   "outputs": [],
   "source": [
    "def quick_mod_recur(base, exp, mod):\n",
    "    if exp==1:\n",
    "        return base % mod\n",
    "    res = quick_mod_recur(base, exp//2, mod)\n",
    "    res = (res * res) % mod\n",
    "    if exp % 2:\n",
    "        res = (res * base) % mod\n",
    "    return res"
   ]
  },
  {
   "cell_type": "code",
   "execution_count": 8,
   "metadata": {},
   "outputs": [
    {
     "name": "stdout",
     "output_type": "stream",
     "text": [
      "yes\n",
      "yes\n",
      "yes\n",
      "yes\n",
      "yes\n",
      "yes\n",
      "yes\n",
      "yes\n",
      "yes\n",
      "yes\n"
     ]
    }
   ],
   "source": [
    "for i in range(10):\n",
    "    s = random.randint(2,8)\n",
    "    q = random.randint(3,9)\n",
    "    p = random.randint(4,9)\n",
    "    res1 = quick_mod(s, q, p)\n",
    "    res2 = quick_mod_recur(s, q, p)\n",
    "    if res1 == res2:\n",
    "        print(\"yes\")\n",
    "    else:\n",
    "        print(s,q,p,sep='+')\n",
    "        print(res1, res2)"
   ]
  },
  {
   "cell_type": "code",
   "execution_count": 16,
   "metadata": {},
   "outputs": [],
   "source": [
    "composite = False\n",
    "def quick_mod(base, exp, mod):\n",
    "    ans = 1\n",
    "    base = base % mod\n",
    "    base_pro = base\n",
    "    while(exp):\n",
    "        if exp % 2:\n",
    "            ans =(ans * base_pro) % mod\n",
    "        base = (base_pro * base_pro) % mod\n",
    "        print(base)\n",
    "        if base==1 and base_pro!=1 and base_pro!=mod-1:\n",
    "            composite = True\n",
    "        base_pro = base\n",
    "        exp //= 2\n",
    "    if not base:\n",
    "        composite = True\n",
    "    return ans"
   ]
  },
  {
   "cell_type": "code",
   "execution_count": 17,
   "metadata": {},
   "outputs": [
    {
     "name": "stdout",
     "output_type": "stream",
     "text": [
      "49\n",
      "157\n",
      "526\n",
      "103\n",
      "511\n",
      "256\n",
      "460\n",
      "103\n",
      "511\n",
      "256\n",
      "False\n"
     ]
    }
   ],
   "source": [
    "quick_mod(7,560, 561)\n",
    "print(composite)"
   ]
  },
  {
   "cell_type": "markdown",
   "metadata": {},
   "source": [
    "## 过程"
   ]
  },
  {
   "cell_type": "code",
   "execution_count": 14,
   "metadata": {},
   "outputs": [],
   "source": [
    "composite = False\n",
    "def quick_mod_recur(base, exp, mod):\n",
    "    if exp==1:\n",
    "        return base % mod\n",
    "    res = quick_mod_recur(base, exp//2, mod)\n",
    "    res = (res * res) % mod\n",
    "    print(res)\n",
    "    if exp % 2:\n",
    "        res = (res * base) % mod\n",
    "    return res"
   ]
  },
  {
   "cell_type": "code",
   "execution_count": 15,
   "metadata": {},
   "outputs": [
    {
     "name": "stdout",
     "output_type": "stream",
     "text": [
      "49\n",
      "157\n",
      "526\n",
      "103\n",
      "355\n",
      "298\n",
      "166\n",
      "67\n",
      "1\n"
     ]
    },
    {
     "data": {
      "text/plain": [
       "1"
      ]
     },
     "execution_count": 15,
     "metadata": {},
     "output_type": "execute_result"
    }
   ],
   "source": [
    "quick_mod_recur(7,560, 561)"
   ]
  },
  {
   "cell_type": "code",
   "execution_count": null,
   "metadata": {},
   "outputs": [],
   "source": []
  }
 ],
 "metadata": {
  "kernelspec": {
   "display_name": "NLP",
   "language": "python",
   "name": "nlp"
  },
  "language_info": {
   "codemirror_mode": {
    "name": "ipython",
    "version": 3
   },
   "file_extension": ".py",
   "mimetype": "text/x-python",
   "name": "python",
   "nbconvert_exporter": "python",
   "pygments_lexer": "ipython3",
   "version": "3.7.5"
  }
 },
 "nbformat": 4,
 "nbformat_minor": 4
}
