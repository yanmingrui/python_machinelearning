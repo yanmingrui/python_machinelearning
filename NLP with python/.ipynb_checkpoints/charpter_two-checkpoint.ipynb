{
 "cells": [
  {
   "cell_type": "markdown",
   "metadata": {},
   "source": [
    "## 快速幂取模"
   ]
  },
  {
   "cell_type": "markdown",
   "metadata": {},
   "source": [
    "## 二进制 \n",
    "$[a]_n * [b]_n \\equiv [ab]_n$\n",
    "\n",
    "$\\rightarrow$\n",
    "\n",
    "$[a^b]_n \\equiv {[a]_n}^b$\n",
    "\n",
    "$b=2^{i_1,i_2....}+2^{k_1,k_2...}+...$\n",
    "\n",
    "$a^b = a^{2^{i_1,i_2....}}*a^{2^{k_1,k_2...}}*...$"
   ]
  },
  {
   "cell_type": "code",
   "execution_count": 1,
   "metadata": {},
   "outputs": [],
   "source": [
    "import random"
   ]
  },
  {
   "cell_type": "markdown",
   "metadata": {},
   "source": [
    "## 迭代 "
   ]
  },
  {
   "cell_type": "code",
   "execution_count": 6,
   "metadata": {},
   "outputs": [],
   "source": [
    "def quick_mod(base, exp, mod):\n",
    "    ans = 1\n",
    "    base = base % mod\n",
    "    base_pro = base\n",
    "    while(exp):\n",
    "        if exp % 2:\n",
    "            ans =(ans * base_pro) % mod\n",
    "        base = (base_pro * base_pro) % mod\n",
    "        base_pro = base\n",
    "        exp //= 2\n",
    "    return ans"
   ]
  },
  {
   "cell_type": "code",
   "execution_count": null,
   "metadata": {},
   "outputs": [],
   "source": [
    "def quick_mod(base, exp, mod):\n",
    "    ans = 1\n",
    "    base = base % mod\n",
    "    base_pro = base\n",
    "    while(exp):\n",
    "        count += 1\n",
    "        if exp % 2:\n",
    "            ans =(ans * base_pro) % mod\n",
    "        base = (base_pro * base_pro) % mod\n",
    "        print(base_pro,base,sep=\"--->\")\n",
    "        base_pro = base\n",
    "        exp //= 2\n",
    "    return ans"
   ]
  },
  {
   "cell_type": "code",
   "execution_count": 7,
   "metadata": {},
   "outputs": [],
   "source": [
    "def quick_mod_recur(base, exp, mod):\n",
    "    if exp==1:\n",
    "        return base % mod\n",
    "    res = quick_mod_recur(base, exp//2, mod)\n",
    "    res = (res * res) % mod\n",
    "    if exp % 2:\n",
    "        res = (res * base) % mod\n",
    "    return res"
   ]
  },
  {
   "cell_type": "code",
   "execution_count": 8,
   "metadata": {},
   "outputs": [
    {
     "name": "stdout",
     "output_type": "stream",
     "text": [
      "yes\n",
      "yes\n",
      "yes\n",
      "yes\n",
      "yes\n",
      "yes\n",
      "yes\n",
      "yes\n",
      "yes\n",
      "yes\n"
     ]
    }
   ],
   "source": [
    "for i in range(10):\n",
    "    s = random.randint(2,8)\n",
    "    q = random.randint(3,9)\n",
    "    p = random.randint(4,9)\n",
    "    res1 = quick_mod(s, q, p)\n",
    "    res2 = quick_mod_recur(s, q, p)\n",
    "    if res1 == res2:\n",
    "        print(\"yes\")\n",
    "    else:\n",
    "        print(s,q,p,sep='+')\n",
    "        print(res1, res2)"
   ]
  },
  {
   "cell_type": "code",
   "execution_count": 5,
   "metadata": {},
   "outputs": [],
   "source": [
    "composite = False\n",
    "def quick_mod(base, exp, mod):\n",
    "    ans = 1\n",
    "    base = base % mod\n",
    "    base_pro = base\n",
    "    while(exp):\n",
    "        if exp % 2:\n",
    "            ans =(ans * base_pro) % mod\n",
    "        base = (base_pro * base_pro) % mod\n",
    "        if ans==1 and base_pro!=1 and base_pro!=mod-1:\n",
    "            composite = True\n",
    "        base_pro = base\n",
    "        exp //= 2\n",
    "    return ans"
   ]
  },
  {
   "cell_type": "code",
   "execution_count": 2,
   "metadata": {},
   "outputs": [
    {
     "ename": "NameError",
     "evalue": "name 'quick_mod_recur' is not defined",
     "output_type": "error",
     "traceback": [
      "\u001b[1;31m---------------------------------------------------------------------------\u001b[0m",
      "\u001b[1;31mNameError\u001b[0m                                 Traceback (most recent call last)",
      "\u001b[1;32m<ipython-input-2-09e24636a6c8>\u001b[0m in \u001b[0;36m<module>\u001b[1;34m\u001b[0m\n\u001b[1;32m----> 1\u001b[1;33m \u001b[0mquick_mod_recur\u001b[0m\u001b[1;33m(\u001b[0m\u001b[1;36m2\u001b[0m\u001b[1;33m,\u001b[0m\u001b[1;36m3\u001b[0m\u001b[1;33m,\u001b[0m \u001b[1;36m7\u001b[0m\u001b[1;33m)\u001b[0m\u001b[1;33m\u001b[0m\u001b[1;33m\u001b[0m\u001b[0m\n\u001b[0m\u001b[0;32m      2\u001b[0m \u001b[0mprint\u001b[0m\u001b[1;33m(\u001b[0m\u001b[0mcomposite\u001b[0m\u001b[1;33m)\u001b[0m\u001b[1;33m\u001b[0m\u001b[1;33m\u001b[0m\u001b[0m\n",
      "\u001b[1;31mNameError\u001b[0m: name 'quick_mod_recur' is not defined"
     ]
    }
   ],
   "source": [
    "quick_mod_recur(2,3, 7)\n",
    "print(composite)"
   ]
  },
  {
   "cell_type": "markdown",
   "metadata": {},
   "source": [
    "## 过程"
   ]
  }
 ],
 "metadata": {
  "kernelspec": {
   "display_name": "NLP",
   "language": "python",
   "name": "nlp"
  },
  "language_info": {
   "codemirror_mode": {
    "name": "ipython",
    "version": 3
   },
   "file_extension": ".py",
   "mimetype": "text/x-python",
   "name": "python",
   "nbconvert_exporter": "python",
   "pygments_lexer": "ipython3",
   "version": "3.7.4"
  }
 },
 "nbformat": 4,
 "nbformat_minor": 4
}
