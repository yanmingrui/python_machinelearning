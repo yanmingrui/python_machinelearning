{
 "cells": [
  {
   "cell_type": "code",
   "execution_count": 1,
   "metadata": {},
   "outputs": [],
   "source": [
    "#n=4,C=7, w=(3,5,2,1) p = (9,10,7,4)"
   ]
  },
  {
   "cell_type": "code",
   "execution_count": 18,
   "metadata": {},
   "outputs": [],
   "source": [
    "w = [3, 5, 2, 1]\n",
    "p = [9, 10, 7, 4]\n",
    "dp = [[0 for _ in range(7)] for _ in range(4)]\n",
    "for i in range(4):\n",
    "    dp[0][w[i]-1] = p[i]"
   ]
  },
  {
   "cell_type": "code",
   "execution_count": 20,
   "metadata": {},
   "outputs": [],
   "source": [
    "for i in range(1,4):\n",
    "    for j in range(7):\n",
    "        if(j-w[i]+1 > 0):\n",
    "            dp[i][j] = max(dp[i-1][j], dp[i-1][j-w[i]+1]+p[i])"
   ]
  },
  {
   "cell_type": "code",
   "execution_count": 21,
   "metadata": {},
   "outputs": [
    {
     "data": {
      "text/plain": [
       "[[4, 7, 9, 0, 10, 0, 0],\n",
       " [0, 0, 0, 0, 0, 17, 19],\n",
       " [0, 0, 7, 7, 7, 17, 24],\n",
       " [0, 4, 11, 11, 11, 21, 28]]"
      ]
     },
     "execution_count": 21,
     "metadata": {},
     "output_type": "execute_result"
    }
   ],
   "source": [
    "dp"
   ]
  },
  {
   "cell_type": "code",
   "execution_count": null,
   "metadata": {},
   "outputs": [],
   "source": []
  }
 ],
 "metadata": {
  "kernelspec": {
   "display_name": "Python 3",
   "language": "python",
   "name": "python3"
  },
  "language_info": {
   "codemirror_mode": {
    "name": "ipython",
    "version": 3
   },
   "file_extension": ".py",
   "mimetype": "text/x-python",
   "name": "python",
   "nbconvert_exporter": "python",
   "pygments_lexer": "ipython3",
   "version": "3.7.5"
  }
 },
 "nbformat": 4,
 "nbformat_minor": 4
}
