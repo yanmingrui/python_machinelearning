{
 "cells": [
  {
   "cell_type": "code",
   "execution_count": 1,
   "metadata": {},
   "outputs": [],
   "source": [
    "import cv2"
   ]
  },
  {
   "cell_type": "code",
   "execution_count": 3,
   "metadata": {},
   "outputs": [],
   "source": [
    "img = cv2.imread(\"cat.jpg\")"
   ]
  },
  {
   "cell_type": "code",
   "execution_count": 4,
   "metadata": {},
   "outputs": [
    {
     "data": {
      "text/plain": [
       "array([[[239, 237, 237],\n",
       "        [239, 237, 237],\n",
       "        [239, 237, 237],\n",
       "        ...,\n",
       "        [239, 237, 237],\n",
       "        [239, 237, 237],\n",
       "        [239, 237, 237]],\n",
       "\n",
       "       [[239, 237, 237],\n",
       "        [239, 237, 237],\n",
       "        [239, 237, 237],\n",
       "        ...,\n",
       "        [239, 237, 237],\n",
       "        [239, 237, 237],\n",
       "        [239, 237, 237]],\n",
       "\n",
       "       [[239, 237, 237],\n",
       "        [239, 237, 237],\n",
       "        [239, 237, 237],\n",
       "        ...,\n",
       "        [239, 237, 237],\n",
       "        [239, 237, 237],\n",
       "        [239, 237, 237]],\n",
       "\n",
       "       ...,\n",
       "\n",
       "       [[233, 231, 230],\n",
       "        [233, 231, 230],\n",
       "        [232, 230, 229],\n",
       "        ...,\n",
       "        [237, 235, 234],\n",
       "        [237, 235, 234],\n",
       "        [237, 235, 234]],\n",
       "\n",
       "       [[232, 230, 229],\n",
       "        [232, 230, 229],\n",
       "        [232, 230, 229],\n",
       "        ...,\n",
       "        [236, 234, 233],\n",
       "        [236, 234, 233],\n",
       "        [236, 234, 233]],\n",
       "\n",
       "       [[232, 230, 229],\n",
       "        [232, 230, 229],\n",
       "        [232, 230, 229],\n",
       "        ...,\n",
       "        [235, 233, 232],\n",
       "        [235, 233, 232],\n",
       "        [235, 233, 232]]], dtype=uint8)"
      ]
     },
     "execution_count": 4,
     "metadata": {},
     "output_type": "execute_result"
    }
   ],
   "source": [
    "img"
   ]
  },
  {
   "cell_type": "code",
   "execution_count": 9,
   "metadata": {},
   "outputs": [
    {
     "data": {
      "text/plain": [
       "-1"
      ]
     },
     "execution_count": 9,
     "metadata": {},
     "output_type": "execute_result"
    }
   ],
   "source": [
    "%matplotlib inline\n",
    "from matplotlib import pyplot as plt\n",
    "cv2.imshow(\"IMage\",img)\n",
    "cv2.waitKey(1000) "
   ]
  },
  {
   "cell_type": "code",
   "execution_count": null,
   "metadata": {},
   "outputs": [],
   "source": []
  }
 ],
 "metadata": {
  "kernelspec": {
   "display_name": "Python 3",
   "language": "python",
   "name": "python3"
  },
  "language_info": {
   "codemirror_mode": {
    "name": "ipython",
    "version": 3
   },
   "file_extension": ".py",
   "mimetype": "text/x-python",
   "name": "python",
   "nbconvert_exporter": "python",
   "pygments_lexer": "ipython3",
   "version": "3.7.5"
  }
 },
 "nbformat": 4,
 "nbformat_minor": 4
}
