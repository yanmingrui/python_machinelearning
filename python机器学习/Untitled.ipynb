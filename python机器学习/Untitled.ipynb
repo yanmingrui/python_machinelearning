{
 "cells": [
  {
   "cell_type": "markdown",
   "metadata": {},
   "source": [
    "$y = e^x - cosx$\n",
    "\n",
    "$y^(') = e^x+sinx$\n",
    "单调递增\n",
    "方法二：\n",
    "$a = f(0.3^2)$\n",
    "\n",
    "$b = f(2^{0.3})$\n",
    "\n",
    "$c = f(\\log _3^2)$"
   ]
  },
  {
   "cell_type": "markdown",
   "metadata": {},
   "source": [
    "b>1 a < 0.5 c > 0.5\n",
    "$e^{0.09}-cos0.09$ 接近0\n"
   ]
  }
 ],
 "metadata": {
  "kernelspec": {
   "display_name": "Python 3",
   "language": "python",
   "name": "python3"
  },
  "language_info": {
   "codemirror_mode": {
    "name": "ipython",
    "version": 3
   },
   "file_extension": ".py",
   "mimetype": "text/x-python",
   "name": "python",
   "nbconvert_exporter": "python",
   "pygments_lexer": "ipython3",
   "version": "3.7.5"
  }
 },
 "nbformat": 4,
 "nbformat_minor": 4
}
